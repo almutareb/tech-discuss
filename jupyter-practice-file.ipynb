{
  "metadata": {
    "language_info": {
      "codemirror_mode": {
        "name": "python",
        "version": 3
      },
      "file_extension": ".py",
      "mimetype": "text/x-python",
      "name": "python",
      "nbconvert_exporter": "python",
      "pygments_lexer": "ipython3",
      "version": "3.8"
    },
    "kernelspec": {
      "name": "python",
      "display_name": "Python (Pyodide)",
      "language": "python"
    },
    "colab": {
      "provenance": []
    }
  },
  "nbformat_minor": 0,
  "nbformat": 4,
  "cells": [
    {
      "cell_type": "code",
      "source": [
        "print(\"hello world\")"
      ],
      "metadata": {
        "trusted": true,
        "id": "ZYzXZMbvh9Fw",
        "outputId": "e3fcde5b-7235-47ae-be7b-c49026222eeb"
      },
      "execution_count": null,
      "outputs": [
        {
          "name": "stdout",
          "text": "hello world\n",
          "output_type": "stream"
        }
      ]
    },
    {
      "cell_type": "markdown",
      "source": [
        "# this is a test file"
      ],
      "metadata": {
        "id": "RJ2nnDqjh9F6"
      }
    },
    {
      "cell_type": "code",
      "source": [],
      "metadata": {
        "id": "jHz_aNz4h9GA"
      },
      "execution_count": null,
      "outputs": []
    },
    {
      "cell_type": "markdown",
      "source": [
        "## second header?\n",
        "* one\n",
        "* two\n",
        "* etc"
      ],
      "metadata": {
        "id": "Z6Pc2dKsh9GE"
      }
    },
    {
      "cell_type": "code",
      "source": [],
      "metadata": {
        "id": "Y3ZMdCQwh9GI"
      },
      "execution_count": null,
      "outputs": []
    },
    {
      "cell_type": "markdown",
      "source": [
        "## update!\n",
        "\n",
        "This was added in Colab"
      ],
      "metadata": {
        "id": "AY2P5_H6iNj8"
      }
    }
  ]
}